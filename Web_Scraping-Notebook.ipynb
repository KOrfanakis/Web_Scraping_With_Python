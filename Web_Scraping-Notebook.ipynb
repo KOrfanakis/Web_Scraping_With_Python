{
 "cells": [
  {
   "cell_type": "markdown",
   "metadata": {},
   "source": [
    "<img src=\"Images/02-Title_Image.png\" style=\"width: 600px;\"/> \n",
    "\n",
    "<br>\n",
    "\n",
    "# Web Scraping\n",
    "\n",
    "## Step 1: Obtaining The HTML"
   ]
  },
  {
   "cell_type": "code",
   "execution_count": 1,
   "metadata": {
    "ExecuteTime": {
     "end_time": "2021-09-20T05:26:15.419733Z",
     "start_time": "2021-09-20T05:26:13.872657Z"
    }
   },
   "outputs": [
    {
     "name": "stdout",
     "output_type": "stream",
     "text": [
      "Status Code: 200\n",
      "The request was successfully received, understood, and accepted.\n"
     ]
    }
   ],
   "source": [
    "import requests\n",
    "\n",
    "url = 'https://companiesmarketcap.com/page/1/'\n",
    "user_agent = 'Mozilla/5.0 (Windows NT 10.0; Win64; x64; rv:92.0) Gecko/20100101 Firefox/92.0'\n",
    "\n",
    "response = requests.get(url, headers={'user-agent': user_agent})\n",
    "\n",
    "if response.ok:\n",
    "    message = 'The request was successfully received, understood, and accepted.'\n",
    "else:\n",
    "    message = 'The request was not successful.'\n",
    "\n",
    "print('Status Code:', response.status_code)\n",
    "print(message)"
   ]
  },
  {
   "cell_type": "markdown",
   "metadata": {},
   "source": [
    "Let us break down the code of this cell:\n",
    "\n",
    "- Firstly, we need to import the `requests` library.\n",
    "- Then, we specify the URL of the webpage we want to scrape. Also, some pages require defining a user agent, i.e. a string identifying the browser and operating system to the web server. Our browser sends its user agent to every website we connect to. We can easily find [our browser's user agent](https://www.whatismybrowser.com/detect/what-is-my-user-agent) or [any other user agent](https://developers.whatismybrowser.com/useragents/explore/). In our case, [companiesmarketcap.com](https://companiesmarketcap.com/) does not require it; however, it is good practice to define the user agent.\n",
    "- We send a GET request to the specified URL using the `get()` method and save the response object to a separate variable called `response`.\n",
    "- Finally, we can check the response's status code and see if the request was successful.\n",
    "\n",
    "We can check the type of the `response` variable:"
   ]
  },
  {
   "cell_type": "code",
   "execution_count": 2,
   "metadata": {
    "ExecuteTime": {
     "end_time": "2021-09-20T05:26:15.480906Z",
     "start_time": "2021-09-20T05:26:15.430152Z"
    }
   },
   "outputs": [
    {
     "data": {
      "text/plain": [
       "requests.models.Response"
      ]
     },
     "execution_count": 2,
     "metadata": {},
     "output_type": "execute_result"
    }
   ],
   "source": [
    "type(response)"
   ]
  },
  {
   "cell_type": "markdown",
   "metadata": {},
   "source": [
    "<br>\n",
    "\n",
    "## Step 2: Parsing The HTML\n",
    "\n",
    "Once the request is successful, we can convert the response object to a Beautiful Soup object, representing the document as a nested data structure. We create a Beautiful Soup object by passing two arguments:\n",
    "\n",
    "- The raw HTML content in bytes (using the `.content` attribute) and\n",
    "- The HTML parser we want to use.\n",
    "\n",
    "There are [three options](https://www.crummy.com/software/BeautifulSoup/bs4/doc/) for parsers with `Beautiful Soup`: `html.parser`, `lxml`, and `html5lib`."
   ]
  },
  {
   "cell_type": "code",
   "execution_count": 3,
   "metadata": {
    "ExecuteTime": {
     "end_time": "2021-09-20T05:26:16.649494Z",
     "start_time": "2021-09-20T05:26:15.491164Z"
    }
   },
   "outputs": [
    {
     "data": {
      "text/plain": [
       "bs4.BeautifulSoup"
      ]
     },
     "execution_count": 3,
     "metadata": {},
     "output_type": "execute_result"
    }
   ],
   "source": [
    "from bs4 import BeautifulSoup\n",
    "\n",
    "html = response.content\n",
    "parser = 'lxml'\n",
    "\n",
    "soup = BeautifulSoup(html, parser)\n",
    "type(soup)"
   ]
  },
  {
   "cell_type": "markdown",
   "metadata": {},
   "source": [
    "For viewing the parse tree, a good suggestion is using the `prettify()` method which turns a Beautiful Soup parse tree into a nicely formatted Unicode string, with a separate line for each tag and each string. Due to its considerable length, we will only print the first 3000 characters."
   ]
  },
  {
   "cell_type": "code",
   "execution_count": 4,
   "metadata": {
    "ExecuteTime": {
     "end_time": "2021-09-20T05:26:16.802932Z",
     "start_time": "2021-09-20T05:26:16.655299Z"
    }
   },
   "outputs": [
    {
     "name": "stdout",
     "output_type": "stream",
     "text": [
      "<!DOCTYPE html>\n",
      "<html lang=\"en-US\">\n",
      " <head>\n",
      "  <title>\n",
      "   Companies ranked by Market Cap - CompaniesMarketCap.com\n",
      "  </title>\n",
      "  <meta charset=\"utf-8\"/>\n",
      "  <link href=\"https://companiesmarketcap.com/favicon.ico\" rel=\"shortcut icon\" type=\"image/x-icon\"/>\n",
      "  <link href=\"/img/icons/apple-icon-57x57.png\" rel=\"apple-touch-icon\" sizes=\"57x57\"/>\n",
      "  <link href=\"/img/icons/apple-icon-60x60.png\" rel=\"apple-touch-icon\" sizes=\"60x60\"/>\n",
      "  <link href=\"/img/icons/apple-icon-72x72.png\" rel=\"apple-touch-icon\" sizes=\"72x72\"/>\n",
      "  <link href=\"/img/icons/apple-icon-76x76.png\" rel=\"apple-touch-icon\" sizes=\"76x76\"/>\n",
      "  <link href=\"/img/icons/apple-icon-114x114.png\" rel=\"apple-touch-icon\" sizes=\"114x114\"/>\n",
      "  <link href=\"/img/icons/apple-icon-120x120.png\" rel=\"apple-touch-icon\" sizes=\"120x120\"/>\n",
      "  <link href=\"/img/icons/apple-icon-144x144.png\" rel=\"apple-touch-icon\" sizes=\"144x144\"/>\n",
      "  <link href=\"/img/icons/apple-icon-152x152.png\" rel=\"apple-touch-icon\" sizes=\"152x152\"/>\n",
      "  <link href=\"/img/icons/apple-icon-180x180.png\" rel=\"apple-touch-icon\" sizes=\"180x180\"/>\n",
      "  <link href=\"/img/icons/android-icon-192x192.png\" rel=\"icon\" sizes=\"192x192\" type=\"image/png\"/>\n",
      "  <link href=\"/img/icons/favicon-32x32.png\" rel=\"icon\" sizes=\"32x32\" type=\"image/png\"/>\n",
      "  <link href=\"/img/icons/favicon-96x96.png\" rel=\"icon\" sizes=\"96x96\" type=\"image/png\"/>\n",
      "  <link href=\"/img/icons/favicon-16x16.png\" rel=\"icon\" sizes=\"16x16\" type=\"image/png\"/>\n",
      "  <link href=\"/img/icons/manifest.json\" rel=\"manifest\"/>\n",
      "  <link href=\"https://companiesmarketc\n"
     ]
    }
   ],
   "source": [
    "print(soup.prettify()[:1500])"
   ]
  },
  {
   "cell_type": "markdown",
   "metadata": {},
   "source": [
    "<br>\n",
    "\n",
    "## Step 3: Extracting The Data\n",
    "\n",
    "We can now start extracting useful information from the HTML content. By inspecting the source code, we observe that the whole table of companies is described by a HTML element with the `tbody` tag, which encapsulates a set of table rows, indicating that they comprise the body of the table ([Source](https://developer.mozilla.org/en-US/docs/Web/HTML/Element/tbody)).\n",
    "\n",
    "<br><br>\n",
    "\n",
    "<img src=\"Images/03-tbody.png\" style=\"width: 800px;\"/>  \n",
    "\n",
    "<br><br>\n",
    "\n",
    "To retrieve that piece of information, we need Beautiful Soup's `find()` function. This function takes the name of the desired tag as string input and returns the first occurrence of that particular tag. "
   ]
  },
  {
   "cell_type": "code",
   "execution_count": 5,
   "metadata": {
    "ExecuteTime": {
     "end_time": "2021-09-20T05:26:16.818566Z",
     "start_time": "2021-09-20T05:26:16.807909Z"
    }
   },
   "outputs": [],
   "source": [
    "table = soup.find('tbody')"
   ]
  },
  {
   "cell_type": "markdown",
   "metadata": {},
   "source": [
    "<br>\n",
    "\n",
    "### Scraping One Row\n",
    "\n",
    "We can extract the first row/company in the table by applying the same method to the `table` variable. The first row (and all rows) is described by an HTML element with the `<tr>` tag (this tag defines a row in an HTML table).\n",
    "\n",
    "<br><br>\n",
    "\n",
    "<img src=\"Images/04-tr.png\" style=\"width: 800px;\"/> "
   ]
  },
  {
   "cell_type": "code",
   "execution_count": 6,
   "metadata": {
    "ExecuteTime": {
     "end_time": "2021-09-20T05:26:16.849213Z",
     "start_time": "2021-09-20T05:26:16.827730Z"
    }
   },
   "outputs": [
    {
     "name": "stdout",
     "output_type": "stream",
     "text": [
      "<tr>\n",
      " <td class=\"td-right\" data-sort=\"1\">\n",
      "  1\n",
      " </td>\n",
      " <td class=\"name-td\">\n",
      "  <div class=\"float-left pt-1\">\n",
      "   <img alt=\"Apple logo\" class=\"company-logo\" loading=\"lazy\" src=\"/img/company-logos/80/AAPL.png\"/>\n",
      "  </div>\n",
      "  <div class=\"name-div\">\n",
      "   <a href=\"/apple/marketcap/\">\n",
      "    <div class=\"company-name\">\n",
      "     Apple\n",
      "    </div>\n",
      "    <div class=\"company-code\">\n",
      "     <span class=\"rank d-none\">\n",
      "     </span>\n",
      "     AAPL\n",
      "    </div>\n",
      "   </a>\n",
      "  </div>\n",
      " </td>\n",
      " <td class=\"td-right\" data-sort=\"2414401028096\">\n",
      "  $2.414 T\n",
      " </td>\n",
      " <td class=\"td-right\" data-sort=\"14606\">\n",
      "  $146.06\n",
      " </td>\n",
      " <td class=\"rh-sm\" data-sort=\"-183\">\n",
      "  <span class=\"percentage-red\">\n",
      "   -1.83%\n",
      "  </span>\n",
      " </td>\n",
      " <td class=\"p-0 sparkline-td red\">\n",
      "  <svg>\n",
      "   <path d=\"M0,39 L5,39 L10,41 L15,40 L20,30 L25,29 L30,22 L35,25 L40,38 L45,37 L50,32 L55,27 L60,27 L65,32 L70,34 L75,31 L80,15 L85,20 L90,17 L95,13 L100,11 L105,11 L110,3 L115,8 L120,12 L125,29 L130,27 L135,32 L140,29 L145,30 L150,39 L155,39\">\n",
      "   </path>\n",
      "  </svg>\n",
      " </td>\n",
      " <td>\n",
      "  🇺🇸\n",
      "  <span class=\"responsive-hidden\">\n",
      "   USA\n",
      "  </span>\n",
      " </td>\n",
      "</tr>\n",
      "\n"
     ]
    }
   ],
   "source": [
    "first_row = table.find('tr')\n",
    "print(first_row.prettify())"
   ]
  },
  {
   "cell_type": "markdown",
   "metadata": {},
   "source": [
    "<br>\n",
    "\n",
    "#### Name\n",
    "\n",
    "We can use the newly created `first_row` variable and repeat the same process for retrieving more specific information. For instance, the company's name has a `<div>` tag with a `class` attribute equal to `company-name`. \n",
    "\n",
    "<br><br>\n",
    "\n",
    "<img src=\"Images/05-company-name.png\" style=\"width: 800px;\"/> \n",
    "\n",
    "<br><br>\n",
    "\n",
    "Beautiful Soup's `find()` method allows us to search for tags based on their attributes, in addition to their name. This is achieved by including the name and value of the attributes as a dictionary."
   ]
  },
  {
   "cell_type": "code",
   "execution_count": 7,
   "metadata": {
    "ExecuteTime": {
     "end_time": "2021-09-20T05:26:16.879814Z",
     "start_time": "2021-09-20T05:26:16.855511Z"
    }
   },
   "outputs": [
    {
     "data": {
      "text/plain": [
       "<div class=\"company-name\">Apple</div>"
      ]
     },
     "execution_count": 7,
     "metadata": {},
     "output_type": "execute_result"
    }
   ],
   "source": [
    "first_row.find('div', {'class': 'company-name'})"
   ]
  },
  {
   "cell_type": "markdown",
   "metadata": {},
   "source": [
    "To retrieve the content of the HTML element, we can use the `.text` attribute:"
   ]
  },
  {
   "cell_type": "code",
   "execution_count": 8,
   "metadata": {
    "ExecuteTime": {
     "end_time": "2021-09-20T05:26:16.910696Z",
     "start_time": "2021-09-20T05:26:16.887747Z"
    }
   },
   "outputs": [
    {
     "data": {
      "text/plain": [
       "'Apple'"
      ]
     },
     "execution_count": 8,
     "metadata": {},
     "output_type": "execute_result"
    }
   ],
   "source": [
    "company = first_row.find('div', {'class': 'company-name'}).text\n",
    "company"
   ]
  },
  {
   "cell_type": "markdown",
   "metadata": {},
   "source": [
    "<br>\n",
    "\n",
    "#### Ticker"
   ]
  },
  {
   "cell_type": "code",
   "execution_count": 9,
   "metadata": {
    "ExecuteTime": {
     "end_time": "2021-09-20T05:26:16.941496Z",
     "start_time": "2021-09-20T05:26:16.915026Z"
    }
   },
   "outputs": [
    {
     "data": {
      "text/plain": [
       "'AAPL'"
      ]
     },
     "execution_count": 9,
     "metadata": {},
     "output_type": "execute_result"
    }
   ],
   "source": [
    "ticker = first_row.find('div', {'class': 'company-code'}).text\n",
    "ticker"
   ]
  },
  {
   "cell_type": "markdown",
   "metadata": {},
   "source": [
    "<br>\n",
    "\n",
    "#### Market Cap."
   ]
  },
  {
   "cell_type": "code",
   "execution_count": 10,
   "metadata": {
    "ExecuteTime": {
     "end_time": "2021-09-20T05:26:16.974906Z",
     "start_time": "2021-09-20T05:26:16.946102Z"
    }
   },
   "outputs": [
    {
     "data": {
      "text/plain": [
       "'$2.414 T'"
      ]
     },
     "execution_count": 10,
     "metadata": {},
     "output_type": "execute_result"
    }
   ],
   "source": [
    "market_cap = first_row.find_all('td', {'class': 'td-right'})[1].text\n",
    "market_cap"
   ]
  },
  {
   "cell_type": "markdown",
   "metadata": {},
   "source": [
    "<br>\n",
    "\n",
    "#### Price"
   ]
  },
  {
   "cell_type": "code",
   "execution_count": 11,
   "metadata": {
    "ExecuteTime": {
     "end_time": "2021-09-20T05:26:17.036655Z",
     "start_time": "2021-09-20T05:26:17.003638Z"
    }
   },
   "outputs": [
    {
     "data": {
      "text/plain": [
       "'$146.06'"
      ]
     },
     "execution_count": 11,
     "metadata": {},
     "output_type": "execute_result"
    }
   ],
   "source": [
    "price = first_row.find_all('td', {'class': 'td-right'})[2].text\n",
    "price"
   ]
  },
  {
   "cell_type": "markdown",
   "metadata": {},
   "source": [
    "<br>\n",
    "\n",
    "#### Daily Change"
   ]
  },
  {
   "cell_type": "code",
   "execution_count": 12,
   "metadata": {
    "ExecuteTime": {
     "end_time": "2021-09-20T05:26:17.064647Z",
     "start_time": "2021-09-20T05:26:17.041333Z"
    }
   },
   "outputs": [
    {
     "data": {
      "text/plain": [
       "'-1.83%'"
      ]
     },
     "execution_count": 12,
     "metadata": {},
     "output_type": "execute_result"
    }
   ],
   "source": [
    "today = first_row.find_all('span')[1].text\n",
    "today"
   ]
  },
  {
   "cell_type": "markdown",
   "metadata": {},
   "source": [
    "<br>\n",
    "\n",
    "#### Country"
   ]
  },
  {
   "cell_type": "code",
   "execution_count": 13,
   "metadata": {
    "ExecuteTime": {
     "end_time": "2021-09-20T05:26:17.141525Z",
     "start_time": "2021-09-20T05:26:17.070597Z"
    }
   },
   "outputs": [
    {
     "data": {
      "text/plain": [
       "'USA'"
      ]
     },
     "execution_count": 13,
     "metadata": {},
     "output_type": "execute_result"
    }
   ],
   "source": [
    "country = first_row.find_all('span', {'class': 'responsive-hidden'})[0].text\n",
    "country"
   ]
  },
  {
   "cell_type": "markdown",
   "metadata": {},
   "source": [
    "We can summarise the data by creating a Pandas DataFrame:"
   ]
  },
  {
   "cell_type": "code",
   "execution_count": 14,
   "metadata": {
    "ExecuteTime": {
     "end_time": "2021-09-20T05:26:22.164527Z",
     "start_time": "2021-09-20T05:26:17.145992Z"
    }
   },
   "outputs": [
    {
     "data": {
      "text/html": [
       "<div>\n",
       "<style scoped>\n",
       "    .dataframe tbody tr th:only-of-type {\n",
       "        vertical-align: middle;\n",
       "    }\n",
       "\n",
       "    .dataframe tbody tr th {\n",
       "        vertical-align: top;\n",
       "    }\n",
       "\n",
       "    .dataframe thead th {\n",
       "        text-align: right;\n",
       "    }\n",
       "</style>\n",
       "<table border=\"1\" class=\"dataframe\">\n",
       "  <thead>\n",
       "    <tr style=\"text-align: right;\">\n",
       "      <th></th>\n",
       "      <th>Company</th>\n",
       "      <th>Ticker</th>\n",
       "      <th>Market Cap.</th>\n",
       "      <th>Price</th>\n",
       "      <th>Daily Change</th>\n",
       "      <th>Country</th>\n",
       "    </tr>\n",
       "  </thead>\n",
       "  <tbody>\n",
       "    <tr>\n",
       "      <th>0</th>\n",
       "      <td>Apple</td>\n",
       "      <td>AAPL</td>\n",
       "      <td>$2.414 T</td>\n",
       "      <td>$146.06</td>\n",
       "      <td>-1.83%</td>\n",
       "      <td>USA</td>\n",
       "    </tr>\n",
       "  </tbody>\n",
       "</table>\n",
       "</div>"
      ],
      "text/plain": [
       "  Company Ticker Market Cap.    Price Daily Change Country\n",
       "0   Apple   AAPL    $2.414 T  $146.06       -1.83%     USA"
      ]
     },
     "execution_count": 14,
     "metadata": {},
     "output_type": "execute_result"
    }
   ],
   "source": [
    "import pandas as pd\n",
    "\n",
    "first_row = pd.DataFrame(\n",
    "    {\n",
    "        'Company': company,\n",
    "        'Ticker': ticker,\n",
    "        'Market Cap.': market_cap,\n",
    "        'Price': price,\n",
    "        'Daily Change': today,\n",
    "        'Country': country\n",
    "    },\n",
    "    index=[0])\n",
    "\n",
    "first_row"
   ]
  },
  {
   "cell_type": "markdown",
   "metadata": {},
   "source": [
    "<br>\n",
    "\n",
    "### Scraping One Page\n",
    "\n",
    "We are now ready to scale our approach to retrieving data from the entirety of the first page. To achieve this, we need the `find_all()` function, which, as the name suggests, extracts all the occurrences of the specified tag."
   ]
  },
  {
   "cell_type": "code",
   "execution_count": 15,
   "metadata": {
    "ExecuteTime": {
     "end_time": "2021-09-20T05:26:22.183370Z",
     "start_time": "2021-09-20T05:26:22.167994Z"
    }
   },
   "outputs": [],
   "source": [
    "table = table.find_all('tr')"
   ]
  },
  {
   "cell_type": "code",
   "execution_count": 16,
   "metadata": {
    "ExecuteTime": {
     "end_time": "2021-09-20T05:26:22.203210Z",
     "start_time": "2021-09-20T05:26:22.188330Z"
    }
   },
   "outputs": [
    {
     "data": {
      "text/plain": [
       "100"
      ]
     },
     "execution_count": 16,
     "metadata": {},
     "output_type": "execute_result"
    }
   ],
   "source": [
    "len(table)"
   ]
  },
  {
   "cell_type": "markdown",
   "metadata": {},
   "source": [
    "The length of the `table` variable confirms that all rows/companies of the table were successfully extracted. \n",
    "\n",
    "We can use a for loop to iterate over all rows of the page.  "
   ]
  },
  {
   "cell_type": "code",
   "execution_count": 17,
   "metadata": {
    "ExecuteTime": {
     "end_time": "2021-09-20T05:26:22.454187Z",
     "start_time": "2021-09-20T05:26:22.208706Z"
    }
   },
   "outputs": [],
   "source": [
    "companies, tickers, market_caps, prices, changes, countries = [], [], [], [], [], []\n",
    "\n",
    "for i in range(len(table)):\n",
    "    companies.append(table[i].find('div', {'class': 'company-name'}).text)\n",
    "    tickers.append(table[i].find('div', {'class': 'company-code'}).text)\n",
    "    market_caps.append(table[i].find_all('td', {'class': 'td-right'})[1].text)\n",
    "    prices.append(table[i].find_all('td', {'class': 'td-right'})[2].text)\n",
    "    changes.append(table[i].find_all('span')[1].text)\n",
    "    countries.append(table[i].find_all('span', {'class': 'responsive-hidden'})[0].text)"
   ]
  },
  {
   "cell_type": "markdown",
   "metadata": {},
   "source": [
    "We can create a DataFrame for the first page and print the first and last three rows to check if everything is correct:"
   ]
  },
  {
   "cell_type": "code",
   "execution_count": 18,
   "metadata": {
    "ExecuteTime": {
     "end_time": "2021-09-20T05:26:22.506778Z",
     "start_time": "2021-09-20T05:26:22.465100Z"
    }
   },
   "outputs": [
    {
     "data": {
      "text/html": [
       "<div>\n",
       "<style scoped>\n",
       "    .dataframe tbody tr th:only-of-type {\n",
       "        vertical-align: middle;\n",
       "    }\n",
       "\n",
       "    .dataframe tbody tr th {\n",
       "        vertical-align: top;\n",
       "    }\n",
       "\n",
       "    .dataframe thead th {\n",
       "        text-align: right;\n",
       "    }\n",
       "</style>\n",
       "<table border=\"1\" class=\"dataframe\">\n",
       "  <thead>\n",
       "    <tr style=\"text-align: right;\">\n",
       "      <th></th>\n",
       "      <th>Company</th>\n",
       "      <th>Ticker</th>\n",
       "      <th>Market Cap</th>\n",
       "      <th>Price</th>\n",
       "      <th>Daily Change</th>\n",
       "      <th>Country</th>\n",
       "    </tr>\n",
       "  </thead>\n",
       "  <tbody>\n",
       "    <tr>\n",
       "      <th>0</th>\n",
       "      <td>Apple</td>\n",
       "      <td>AAPL</td>\n",
       "      <td>$2.414 T</td>\n",
       "      <td>$146.06</td>\n",
       "      <td>-1.83%</td>\n",
       "      <td>USA</td>\n",
       "    </tr>\n",
       "    <tr>\n",
       "      <th>1</th>\n",
       "      <td>Microsoft</td>\n",
       "      <td>MSFT</td>\n",
       "      <td>$2.253 T</td>\n",
       "      <td>$299.87</td>\n",
       "      <td>-1.75%</td>\n",
       "      <td>USA</td>\n",
       "    </tr>\n",
       "    <tr>\n",
       "      <th>2</th>\n",
       "      <td>Alphabet (Google)</td>\n",
       "      <td>GOOG</td>\n",
       "      <td>$1.881 T</td>\n",
       "      <td>$2,829</td>\n",
       "      <td>-2.02%</td>\n",
       "      <td>USA</td>\n",
       "    </tr>\n",
       "    <tr>\n",
       "      <th>97</th>\n",
       "      <td>AIA</td>\n",
       "      <td>AAIGF</td>\n",
       "      <td>$138.26 B</td>\n",
       "      <td>$11.43</td>\n",
       "      <td>0.53%</td>\n",
       "      <td>Hong Kong</td>\n",
       "    </tr>\n",
       "    <tr>\n",
       "      <th>98</th>\n",
       "      <td>HDFC Bank</td>\n",
       "      <td>HDB</td>\n",
       "      <td>$136.93 B</td>\n",
       "      <td>$74.20</td>\n",
       "      <td>-0.96%</td>\n",
       "      <td>India</td>\n",
       "    </tr>\n",
       "    <tr>\n",
       "      <th>99</th>\n",
       "      <td>Bristol-Myers Squibb</td>\n",
       "      <td>BMY</td>\n",
       "      <td>$136.23 B</td>\n",
       "      <td>$61.31</td>\n",
       "      <td>0.13%</td>\n",
       "      <td>USA</td>\n",
       "    </tr>\n",
       "  </tbody>\n",
       "</table>\n",
       "</div>"
      ],
      "text/plain": [
       "                 Company Ticker Market Cap    Price Daily Change    Country\n",
       "0                  Apple   AAPL   $2.414 T  $146.06       -1.83%        USA\n",
       "1              Microsoft   MSFT   $2.253 T  $299.87       -1.75%        USA\n",
       "2      Alphabet (Google)   GOOG   $1.881 T   $2,829       -2.02%        USA\n",
       "97                   AIA  AAIGF  $138.26 B   $11.43        0.53%  Hong Kong\n",
       "98             HDFC Bank    HDB  $136.93 B   $74.20       -0.96%      India\n",
       "99  Bristol-Myers Squibb    BMY  $136.23 B   $61.31        0.13%        USA"
      ]
     },
     "execution_count": 18,
     "metadata": {},
     "output_type": "execute_result"
    }
   ],
   "source": [
    "first_page_df = pd.DataFrame({\n",
    "    'Company': companies,\n",
    "    'Ticker': tickers,\n",
    "    'Market Cap': market_caps,\n",
    "    'Price': prices,\n",
    "    'Daily Change': changes,\n",
    "    'Country': countries\n",
    "})\n",
    "\n",
    "first_page_df.iloc[[0, 1, 2, 97, 98, 99]]"
   ]
  },
  {
   "cell_type": "markdown",
   "metadata": {},
   "source": [
    "<br>\n",
    "\n",
    "### Scraping Multiple Pages\n",
    "\n",
    "Scraping multiple pages is a bit more challenging. The most significant modification compared to our one-page script is making a separate request for each individual page. Therefore, we need a for loop. \n",
    "\n",
    "After inspecting the URLs of the first few pages, we observe that the only thing that changes from page to page is the number of the page that is included between the forward slashes at the end of the end (highlighted in orange in the following image). Consequently, we only need to vary one parameter of the URL as the for loop progresses.\n",
    "\n",
    "<br><br>\n",
    "\n",
    "<img src=\"Images/06-Link_format.png\" style=\"width: 600px;\"/> \n",
    "\n",
    "<br><br>\n",
    "\n",
    "We also want to limit the rate of requests. This can be achieved by using the `sleep()` function of the time package, which pauses the execution of the loop for a specified amount of seconds.\n",
    "\n",
    "In our example, we will scape the first 50 pages with a random delay between requests."
   ]
  },
  {
   "cell_type": "code",
   "execution_count": 19,
   "metadata": {
    "ExecuteTime": {
     "end_time": "2021-09-20T05:37:42.189691Z",
     "start_time": "2021-09-20T05:26:22.514698Z"
    }
   },
   "outputs": [
    {
     "name": "stdout",
     "output_type": "stream",
     "text": [
      "Page 1 - The request was successfully received, understood, and accepted.\n",
      "Page 2 - The request was successfully received, understood, and accepted.\n",
      "Page 3 - The request was successfully received, understood, and accepted.\n",
      "Page 4 - The request was successfully received, understood, and accepted.\n",
      "Page 5 - The request was successfully received, understood, and accepted.\n",
      "Page 6 - The request was successfully received, understood, and accepted.\n",
      "Page 7 - The request was successfully received, understood, and accepted.\n",
      "Page 8 - The request was successfully received, understood, and accepted.\n",
      "Page 9 - The request was successfully received, understood, and accepted.\n",
      "Page 10 - The request was successfully received, understood, and accepted.\n",
      "Page 11 - The request was successfully received, understood, and accepted.\n",
      "Page 12 - The request was successfully received, understood, and accepted.\n",
      "Page 13 - The request was successfully received, understood, and accepted.\n",
      "Page 14 - The request was successfully received, understood, and accepted.\n",
      "Page 15 - The request was successfully received, understood, and accepted.\n",
      "Page 16 - The request was successfully received, understood, and accepted.\n",
      "Page 17 - The request was successfully received, understood, and accepted.\n",
      "Page 18 - The request was successfully received, understood, and accepted.\n",
      "Page 19 - The request was successfully received, understood, and accepted.\n",
      "Page 20 - The request was successfully received, understood, and accepted.\n",
      "Page 21 - The request was successfully received, understood, and accepted.\n",
      "Page 22 - The request was successfully received, understood, and accepted.\n",
      "Page 23 - The request was successfully received, understood, and accepted.\n",
      "Page 24 - The request was successfully received, understood, and accepted.\n",
      "Page 25 - The request was successfully received, understood, and accepted.\n",
      "Page 26 - The request was successfully received, understood, and accepted.\n",
      "Page 27 - The request was successfully received, understood, and accepted.\n",
      "Page 28 - The request was successfully received, understood, and accepted.\n",
      "Page 29 - The request was successfully received, understood, and accepted.\n",
      "Page 30 - The request was successfully received, understood, and accepted.\n",
      "Page 31 - The request was successfully received, understood, and accepted.\n",
      "Page 32 - The request was successfully received, understood, and accepted.\n",
      "Page 33 - The request was successfully received, understood, and accepted.\n",
      "Page 34 - The request was successfully received, understood, and accepted.\n",
      "Page 35 - The request was successfully received, understood, and accepted.\n",
      "Page 36 - The request was successfully received, understood, and accepted.\n",
      "Page 37 - The request was successfully received, understood, and accepted.\n",
      "Page 38 - The request was successfully received, understood, and accepted.\n",
      "Page 39 - The request was successfully received, understood, and accepted.\n",
      "Page 40 - The request was successfully received, understood, and accepted.\n",
      "Page 41 - The request was successfully received, understood, and accepted.\n",
      "Page 42 - The request was successfully received, understood, and accepted.\n",
      "Page 43 - The request was successfully received, understood, and accepted.\n",
      "Page 44 - The request was successfully received, understood, and accepted.\n",
      "Page 45 - The request was successfully received, understood, and accepted.\n",
      "Page 46 - The request was successfully received, understood, and accepted.\n",
      "Page 47 - The request was successfully received, understood, and accepted.\n",
      "Page 48 - The request was successfully received, understood, and accepted.\n",
      "Page 49 - The request was successfully received, understood, and accepted.\n",
      "Page 50 - The request was successfully received, understood, and accepted.\n",
      "Page 51 - The request was successfully received, understood, and accepted.\n",
      "Page 52 - The request was successfully received, understood, and accepted.\n",
      "Page 53 - The request was successfully received, understood, and accepted.\n",
      "Page 54 - The request was successfully received, understood, and accepted.\n"
     ]
    }
   ],
   "source": [
    "# Import the two new required packages\n",
    "from time import sleep\n",
    "import random\n",
    "\n",
    "# Initialise an empty DataFrame\n",
    "columns = ['Company', 'Ticker', 'Market Cap', 'Price', 'Daily Change', 'Country']\n",
    "df = pd.DataFrame(columns=columns)\n",
    "\n",
    "num_of_pages = 54\n",
    "for p in range(1, num_of_pages+1):\n",
    "\n",
    "    # 01. Define the url of the site\n",
    "    url = 'https://companiesmarketcap.com/page/{}/'.format(p)\n",
    "\n",
    "    # 02. Make a get request and print a message about whether it was successful or not\n",
    "    while True:\n",
    "        response = requests.get(url)\n",
    "\n",
    "        if response.ok: break\n",
    "\n",
    "        print('  Page {} - {}'.format(p, '!The request was not accepted!'))\n",
    "        sleep(random.uniform(5, 10))\n",
    "\n",
    "    message = 'The request was successfully received, understood, and accepted.' if response.ok else 'The request was not successful.'\n",
    "    print('Page {} - {}'.format(p, message))\n",
    "\n",
    "    # 03. Extract the raw HTML and create a Beatiful Soup object\n",
    "    html = response.content\n",
    "    soup = BeautifulSoup(html, 'lxml')\n",
    "\n",
    "    # 04. Retrieve data for all games\n",
    "    table = soup.find('tbody').find_all('tr')\n",
    "\n",
    "    # 05. Retrieve data for each feauture individually\n",
    "    companies, tickers, market_caps, prices, changes, countries = [], [], [], [], [], []\n",
    "\n",
    "    for i in range(len(table)):\n",
    "        companies.append(table[i].find('div', {'class': 'company-name'}).text)\n",
    "        tickers.append(table[i].find('div', {'class': 'company-code'}).text)\n",
    "        market_caps.append(table[i].find_all('td', {'class': 'td-right'})[1].text)\n",
    "        prices.append(table[i].find_all('td', {'class': 'td-right'})[2].text)\n",
    "        changes.append(table[i].find_all('span')[1].text)\n",
    "        countries.append(table[i].find_all('span', {'class': 'responsive-hidden'})[0].text)\n",
    "\n",
    "    # 06. Append to the existing DataFrame\n",
    "    dfCurrent = pd.DataFrame({\n",
    "        'Company': companies,\n",
    "        'Ticker': tickers,\n",
    "        'Market Cap': market_caps,\n",
    "        'Price': prices,\n",
    "        'Daily Change': changes,\n",
    "        'Country': countries\n",
    "    })\n",
    "    df = pd.concat([df, dfCurrent])\n",
    "\n",
    "    # 07. Add a random delay time between 5 and 20 s\n",
    "    sleep(random.uniform(5, 20))"
   ]
  },
  {
   "cell_type": "markdown",
   "metadata": {},
   "source": [
    "It appears that all pages were scraped successfully! Let us view the first and last two rows of the whole dataset."
   ]
  },
  {
   "cell_type": "code",
   "execution_count": 20,
   "metadata": {
    "ExecuteTime": {
     "end_time": "2021-09-20T05:37:42.357836Z",
     "start_time": "2021-09-20T05:37:42.221477Z"
    }
   },
   "outputs": [
    {
     "data": {
      "text/html": [
       "<div>\n",
       "<style scoped>\n",
       "    .dataframe tbody tr th:only-of-type {\n",
       "        vertical-align: middle;\n",
       "    }\n",
       "\n",
       "    .dataframe tbody tr th {\n",
       "        vertical-align: top;\n",
       "    }\n",
       "\n",
       "    .dataframe thead th {\n",
       "        text-align: right;\n",
       "    }\n",
       "</style>\n",
       "<table border=\"1\" class=\"dataframe\">\n",
       "  <thead>\n",
       "    <tr style=\"text-align: right;\">\n",
       "      <th></th>\n",
       "      <th>Company</th>\n",
       "      <th>Ticker</th>\n",
       "      <th>Market Cap</th>\n",
       "      <th>Price</th>\n",
       "      <th>Daily Change</th>\n",
       "      <th>Country</th>\n",
       "    </tr>\n",
       "  </thead>\n",
       "  <tbody>\n",
       "    <tr>\n",
       "      <th>0</th>\n",
       "      <td>Apple</td>\n",
       "      <td>AAPL</td>\n",
       "      <td>$2.414 T</td>\n",
       "      <td>$146.06</td>\n",
       "      <td>-1.83%</td>\n",
       "      <td>USA</td>\n",
       "    </tr>\n",
       "    <tr>\n",
       "      <th>1</th>\n",
       "      <td>Microsoft</td>\n",
       "      <td>MSFT</td>\n",
       "      <td>$2.253 T</td>\n",
       "      <td>$299.87</td>\n",
       "      <td>-1.75%</td>\n",
       "      <td>USA</td>\n",
       "    </tr>\n",
       "    <tr>\n",
       "      <th>99</th>\n",
       "      <td>Youngevity International\\r\\n</td>\n",
       "      <td>YGYI</td>\n",
       "      <td>$3.73 M</td>\n",
       "      <td>$0.11</td>\n",
       "      <td>-15.38%</td>\n",
       "      <td>USA</td>\n",
       "    </tr>\n",
       "    <tr>\n",
       "      <th>0</th>\n",
       "      <td>Commercial International Bank</td>\n",
       "      <td>CIN.F</td>\n",
       "      <td>$0 M</td>\n",
       "      <td>$3.52</td>\n",
       "      <td>-1.99%</td>\n",
       "      <td>Egypt</td>\n",
       "    </tr>\n",
       "  </tbody>\n",
       "</table>\n",
       "</div>"
      ],
      "text/plain": [
       "                          Company Ticker Market Cap    Price Daily Change  \\\n",
       "0                           Apple   AAPL   $2.414 T  $146.06       -1.83%   \n",
       "1                       Microsoft   MSFT   $2.253 T  $299.87       -1.75%   \n",
       "99   Youngevity International\\r\\n   YGYI    $3.73 M    $0.11      -15.38%   \n",
       "0   Commercial International Bank  CIN.F       $0 M    $3.52       -1.99%   \n",
       "\n",
       "   Country  \n",
       "0      USA  \n",
       "1      USA  \n",
       "99     USA  \n",
       "0    Egypt  "
      ]
     },
     "execution_count": 20,
     "metadata": {},
     "output_type": "execute_result"
    }
   ],
   "source": [
    "df.iloc[[0, 1, -2, -1]]"
   ]
  },
  {
   "cell_type": "markdown",
   "metadata": {},
   "source": [
    "Notice that the last two indices are '99' and '0', even though we scraped 54 pages, each containing 100 companiess. That is due to the way we concatenated the pages. We can easily fix this issue using the `reset_index()` method."
   ]
  },
  {
   "cell_type": "code",
   "execution_count": 21,
   "metadata": {
    "ExecuteTime": {
     "end_time": "2021-09-20T05:37:42.427415Z",
     "start_time": "2021-09-20T05:37:42.368799Z"
    }
   },
   "outputs": [
    {
     "data": {
      "text/html": [
       "<div>\n",
       "<style scoped>\n",
       "    .dataframe tbody tr th:only-of-type {\n",
       "        vertical-align: middle;\n",
       "    }\n",
       "\n",
       "    .dataframe tbody tr th {\n",
       "        vertical-align: top;\n",
       "    }\n",
       "\n",
       "    .dataframe thead th {\n",
       "        text-align: right;\n",
       "    }\n",
       "</style>\n",
       "<table border=\"1\" class=\"dataframe\">\n",
       "  <thead>\n",
       "    <tr style=\"text-align: right;\">\n",
       "      <th></th>\n",
       "      <th>Company</th>\n",
       "      <th>Ticker</th>\n",
       "      <th>Market Cap</th>\n",
       "      <th>Price</th>\n",
       "      <th>Daily Change</th>\n",
       "      <th>Country</th>\n",
       "    </tr>\n",
       "  </thead>\n",
       "  <tbody>\n",
       "    <tr>\n",
       "      <th>0</th>\n",
       "      <td>Apple</td>\n",
       "      <td>AAPL</td>\n",
       "      <td>$2.414 T</td>\n",
       "      <td>$146.06</td>\n",
       "      <td>-1.83%</td>\n",
       "      <td>USA</td>\n",
       "    </tr>\n",
       "    <tr>\n",
       "      <th>1</th>\n",
       "      <td>Microsoft</td>\n",
       "      <td>MSFT</td>\n",
       "      <td>$2.253 T</td>\n",
       "      <td>$299.87</td>\n",
       "      <td>-1.75%</td>\n",
       "      <td>USA</td>\n",
       "    </tr>\n",
       "    <tr>\n",
       "      <th>5299</th>\n",
       "      <td>Youngevity International\\r\\n</td>\n",
       "      <td>YGYI</td>\n",
       "      <td>$3.73 M</td>\n",
       "      <td>$0.11</td>\n",
       "      <td>-15.38%</td>\n",
       "      <td>USA</td>\n",
       "    </tr>\n",
       "    <tr>\n",
       "      <th>5300</th>\n",
       "      <td>Commercial International Bank</td>\n",
       "      <td>CIN.F</td>\n",
       "      <td>$0 M</td>\n",
       "      <td>$3.52</td>\n",
       "      <td>-1.99%</td>\n",
       "      <td>Egypt</td>\n",
       "    </tr>\n",
       "  </tbody>\n",
       "</table>\n",
       "</div>"
      ],
      "text/plain": [
       "                            Company Ticker Market Cap    Price Daily Change  \\\n",
       "0                             Apple   AAPL   $2.414 T  $146.06       -1.83%   \n",
       "1                         Microsoft   MSFT   $2.253 T  $299.87       -1.75%   \n",
       "5299   Youngevity International\\r\\n   YGYI    $3.73 M    $0.11      -15.38%   \n",
       "5300  Commercial International Bank  CIN.F       $0 M    $3.52       -1.99%   \n",
       "\n",
       "     Country  \n",
       "0        USA  \n",
       "1        USA  \n",
       "5299     USA  \n",
       "5300   Egypt  "
      ]
     },
     "execution_count": 21,
     "metadata": {},
     "output_type": "execute_result"
    }
   ],
   "source": [
    "df.reset_index(drop=True, inplace=True)\n",
    "df.iloc[[0, 1, -2, -1]]"
   ]
  },
  {
   "cell_type": "markdown",
   "metadata": {},
   "source": [
    "Finally, we can export the dataset to a CSV file by using the `read_csv()` method. This is good practice since we can just import the dataset next time we start the kernel instead of rescraping the website. \n",
    "\n",
    "Note: In some cases, the string for the company's name ends with '\\r\\n'. This prints a new line, which, when opening the CSV file, gives the impression that the cell is blank. We can remove it by using the `strip()` method."
   ]
  },
  {
   "cell_type": "code",
   "execution_count": 22,
   "metadata": {
    "ExecuteTime": {
     "end_time": "2021-09-20T05:37:42.497218Z",
     "start_time": "2021-09-20T05:37:42.431734Z"
    }
   },
   "outputs": [],
   "source": [
    "df['Company'] = df['Company'].str.strip('\\r\\n')\n",
    "\n",
    "df.to_csv('Companies-Raw.csv', index=False)"
   ]
  },
  {
   "cell_type": "markdown",
   "metadata": {},
   "source": [
    "<br>\n",
    "\n",
    "# Cleaning The Scraped Dataset\n",
    "\n",
    "Web scraping is now complete, and all scraped data are saved in a CSV file. However, we need to modify a few things to be able to visualise the data."
   ]
  },
  {
   "cell_type": "code",
   "execution_count": 23,
   "metadata": {
    "ExecuteTime": {
     "end_time": "2021-09-20T05:37:42.605834Z",
     "start_time": "2021-09-20T05:37:42.512105Z"
    }
   },
   "outputs": [
    {
     "data": {
      "text/html": [
       "<div>\n",
       "<style scoped>\n",
       "    .dataframe tbody tr th:only-of-type {\n",
       "        vertical-align: middle;\n",
       "    }\n",
       "\n",
       "    .dataframe tbody tr th {\n",
       "        vertical-align: top;\n",
       "    }\n",
       "\n",
       "    .dataframe thead th {\n",
       "        text-align: right;\n",
       "    }\n",
       "</style>\n",
       "<table border=\"1\" class=\"dataframe\">\n",
       "  <thead>\n",
       "    <tr style=\"text-align: right;\">\n",
       "      <th></th>\n",
       "      <th>Company</th>\n",
       "      <th>Ticker</th>\n",
       "      <th>Market Cap</th>\n",
       "      <th>Price</th>\n",
       "      <th>Daily Change</th>\n",
       "      <th>Country</th>\n",
       "    </tr>\n",
       "  </thead>\n",
       "  <tbody>\n",
       "    <tr>\n",
       "      <th>0</th>\n",
       "      <td>Apple</td>\n",
       "      <td>AAPL</td>\n",
       "      <td>$2.414 T</td>\n",
       "      <td>$146.06</td>\n",
       "      <td>-1.83%</td>\n",
       "      <td>USA</td>\n",
       "    </tr>\n",
       "    <tr>\n",
       "      <th>1</th>\n",
       "      <td>Microsoft</td>\n",
       "      <td>MSFT</td>\n",
       "      <td>$2.253 T</td>\n",
       "      <td>$299.87</td>\n",
       "      <td>-1.75%</td>\n",
       "      <td>USA</td>\n",
       "    </tr>\n",
       "    <tr>\n",
       "      <th>2</th>\n",
       "      <td>Alphabet (Google)</td>\n",
       "      <td>GOOG</td>\n",
       "      <td>$1.881 T</td>\n",
       "      <td>$2,829</td>\n",
       "      <td>-2.02%</td>\n",
       "      <td>USA</td>\n",
       "    </tr>\n",
       "    <tr>\n",
       "      <th>3</th>\n",
       "      <td>Saudi Aramco</td>\n",
       "      <td>2222.SR</td>\n",
       "      <td>$1.865 T</td>\n",
       "      <td>$9.33</td>\n",
       "      <td>-0.43%</td>\n",
       "      <td>S. Arabia</td>\n",
       "    </tr>\n",
       "    <tr>\n",
       "      <th>4</th>\n",
       "      <td>Amazon</td>\n",
       "      <td>AMZN</td>\n",
       "      <td>$1.753 T</td>\n",
       "      <td>$3,463</td>\n",
       "      <td>-0.74%</td>\n",
       "      <td>USA</td>\n",
       "    </tr>\n",
       "  </tbody>\n",
       "</table>\n",
       "</div>"
      ],
      "text/plain": [
       "             Company   Ticker Market Cap    Price Daily Change    Country\n",
       "0              Apple     AAPL   $2.414 T  $146.06       -1.83%        USA\n",
       "1          Microsoft     MSFT   $2.253 T  $299.87       -1.75%        USA\n",
       "2  Alphabet (Google)     GOOG   $1.881 T   $2,829       -2.02%        USA\n",
       "3       Saudi Aramco  2222.SR   $1.865 T    $9.33       -0.43%  S. Arabia\n",
       "4             Amazon     AMZN   $1.753 T   $3,463       -0.74%        USA"
      ]
     },
     "execution_count": 23,
     "metadata": {},
     "output_type": "execute_result"
    }
   ],
   "source": [
    "df = pd.read_csv('Companies-Raw.csv')\n",
    "df.head()"
   ]
  },
  {
   "cell_type": "markdown",
   "metadata": {},
   "source": [
    "The `info()` method can give us valuable information such as the type of each feature and the number of missing values:"
   ]
  },
  {
   "cell_type": "code",
   "execution_count": 24,
   "metadata": {
    "ExecuteTime": {
     "end_time": "2021-09-20T05:37:42.654444Z",
     "start_time": "2021-09-20T05:37:42.614264Z"
    }
   },
   "outputs": [
    {
     "name": "stdout",
     "output_type": "stream",
     "text": [
      "<class 'pandas.core.frame.DataFrame'>\n",
      "RangeIndex: 5301 entries, 0 to 5300\n",
      "Data columns (total 6 columns):\n",
      " #   Column        Non-Null Count  Dtype \n",
      "---  ------        --------------  ----- \n",
      " 0   Company       5301 non-null   object\n",
      " 1   Ticker        5301 non-null   object\n",
      " 2   Market Cap    5301 non-null   object\n",
      " 3   Price         5301 non-null   object\n",
      " 4   Daily Change  5301 non-null   object\n",
      " 5   Country       5301 non-null   object\n",
      "dtypes: object(6)\n",
      "memory usage: 248.6+ KB\n"
     ]
    }
   ],
   "source": [
    "df.info()"
   ]
  },
  {
   "cell_type": "markdown",
   "metadata": {},
   "source": [
    "There are no missing values in the dataset. However, three columns (‘Market Cap’, ‘Price’, ‘Daily Change’) are of the object type and should be converted to a numerical type (float)."
   ]
  },
  {
   "cell_type": "code",
   "execution_count": 25,
   "metadata": {
    "ExecuteTime": {
     "end_time": "2021-09-20T05:37:42.693625Z",
     "start_time": "2021-09-20T05:37:42.663369Z"
    }
   },
   "outputs": [],
   "source": [
    "df['Market Cap'] = df['Market Cap'].str.strip('$')"
   ]
  },
  {
   "cell_type": "code",
   "execution_count": 26,
   "metadata": {
    "ExecuteTime": {
     "end_time": "2021-09-20T05:37:42.752162Z",
     "start_time": "2021-09-20T05:37:42.700568Z"
    }
   },
   "outputs": [],
   "source": [
    "def function(x):\n",
    "    if x[1] == 'T':\n",
    "        mul = 1E+12\n",
    "    elif x[1] == 'B':\n",
    "        mul = 1E+9\n",
    "    elif x[1] == 'M':\n",
    "        mul = 1E+6\n",
    "\n",
    "    return float(x[0]) * mul\n",
    "\n",
    "df['Market Cap'] = df['Market Cap'].str.split().apply(function).astype(float)"
   ]
  },
  {
   "cell_type": "code",
   "execution_count": 27,
   "metadata": {
    "ExecuteTime": {
     "end_time": "2021-09-20T05:37:42.792824Z",
     "start_time": "2021-09-20T05:37:42.756615Z"
    }
   },
   "outputs": [],
   "source": [
    "df['Price'] = df['Price'].str.strip('$')\n",
    "df['Price'] = df['Price'].str.replace(',', '').astype(float)"
   ]
  },
  {
   "cell_type": "code",
   "execution_count": 28,
   "metadata": {
    "ExecuteTime": {
     "end_time": "2021-09-20T05:37:42.841431Z",
     "start_time": "2021-09-20T05:37:42.801823Z"
    }
   },
   "outputs": [],
   "source": [
    "df['Daily Change'] = df['Daily Change'].str.strip('%').astype(float)\n",
    "df.rename(columns={'Daily Change': 'Daily Change (%)'}, inplace=True)"
   ]
  },
  {
   "cell_type": "code",
   "execution_count": 29,
   "metadata": {
    "ExecuteTime": {
     "end_time": "2021-09-20T05:37:42.890072Z",
     "start_time": "2021-09-20T05:37:42.851351Z"
    }
   },
   "outputs": [
    {
     "data": {
      "text/html": [
       "<div>\n",
       "<style scoped>\n",
       "    .dataframe tbody tr th:only-of-type {\n",
       "        vertical-align: middle;\n",
       "    }\n",
       "\n",
       "    .dataframe tbody tr th {\n",
       "        vertical-align: top;\n",
       "    }\n",
       "\n",
       "    .dataframe thead th {\n",
       "        text-align: right;\n",
       "    }\n",
       "</style>\n",
       "<table border=\"1\" class=\"dataframe\">\n",
       "  <thead>\n",
       "    <tr style=\"text-align: right;\">\n",
       "      <th></th>\n",
       "      <th>Company</th>\n",
       "      <th>Ticker</th>\n",
       "      <th>Market Cap</th>\n",
       "      <th>Price</th>\n",
       "      <th>Daily Change (%)</th>\n",
       "      <th>Country</th>\n",
       "    </tr>\n",
       "  </thead>\n",
       "  <tbody>\n",
       "    <tr>\n",
       "      <th>0</th>\n",
       "      <td>Apple</td>\n",
       "      <td>AAPL</td>\n",
       "      <td>2.414000e+12</td>\n",
       "      <td>146.06</td>\n",
       "      <td>-1.83</td>\n",
       "      <td>USA</td>\n",
       "    </tr>\n",
       "    <tr>\n",
       "      <th>1</th>\n",
       "      <td>Microsoft</td>\n",
       "      <td>MSFT</td>\n",
       "      <td>2.253000e+12</td>\n",
       "      <td>299.87</td>\n",
       "      <td>-1.75</td>\n",
       "      <td>USA</td>\n",
       "    </tr>\n",
       "    <tr>\n",
       "      <th>2</th>\n",
       "      <td>Alphabet (Google)</td>\n",
       "      <td>GOOG</td>\n",
       "      <td>1.881000e+12</td>\n",
       "      <td>2829.00</td>\n",
       "      <td>-2.02</td>\n",
       "      <td>USA</td>\n",
       "    </tr>\n",
       "    <tr>\n",
       "      <th>3</th>\n",
       "      <td>Saudi Aramco</td>\n",
       "      <td>2222.SR</td>\n",
       "      <td>1.865000e+12</td>\n",
       "      <td>9.33</td>\n",
       "      <td>-0.43</td>\n",
       "      <td>S. Arabia</td>\n",
       "    </tr>\n",
       "    <tr>\n",
       "      <th>4</th>\n",
       "      <td>Amazon</td>\n",
       "      <td>AMZN</td>\n",
       "      <td>1.753000e+12</td>\n",
       "      <td>3463.00</td>\n",
       "      <td>-0.74</td>\n",
       "      <td>USA</td>\n",
       "    </tr>\n",
       "  </tbody>\n",
       "</table>\n",
       "</div>"
      ],
      "text/plain": [
       "             Company   Ticker    Market Cap    Price  Daily Change (%)  \\\n",
       "0              Apple     AAPL  2.414000e+12   146.06             -1.83   \n",
       "1          Microsoft     MSFT  2.253000e+12   299.87             -1.75   \n",
       "2  Alphabet (Google)     GOOG  1.881000e+12  2829.00             -2.02   \n",
       "3       Saudi Aramco  2222.SR  1.865000e+12     9.33             -0.43   \n",
       "4             Amazon     AMZN  1.753000e+12  3463.00             -0.74   \n",
       "\n",
       "     Country  \n",
       "0        USA  \n",
       "1        USA  \n",
       "2        USA  \n",
       "3  S. Arabia  \n",
       "4        USA  "
      ]
     },
     "execution_count": 29,
     "metadata": {},
     "output_type": "execute_result"
    }
   ],
   "source": [
    "df.head()"
   ]
  },
  {
   "cell_type": "code",
   "execution_count": 31,
   "metadata": {
    "ExecuteTime": {
     "end_time": "2021-09-20T05:38:28.742312Z",
     "start_time": "2021-09-20T05:38:28.664439Z"
    }
   },
   "outputs": [],
   "source": [
    "df.to_csv('Companies-Improved.csv', index=False)"
   ]
  }
 ],
 "metadata": {
  "hide_input": false,
  "kernelspec": {
   "display_name": "Python 3",
   "language": "python",
   "name": "python3"
  },
  "language_info": {
   "codemirror_mode": {
    "name": "ipython",
    "version": 3
   },
   "file_extension": ".py",
   "mimetype": "text/x-python",
   "name": "python",
   "nbconvert_exporter": "python",
   "pygments_lexer": "ipython3",
   "version": "3.6.8"
  },
  "varInspector": {
   "cols": {
    "lenName": 16,
    "lenType": 16,
    "lenVar": 40
   },
   "kernels_config": {
    "python": {
     "delete_cmd_postfix": "",
     "delete_cmd_prefix": "del ",
     "library": "var_list.py",
     "varRefreshCmd": "print(var_dic_list())"
    },
    "r": {
     "delete_cmd_postfix": ") ",
     "delete_cmd_prefix": "rm(",
     "library": "var_list.r",
     "varRefreshCmd": "cat(var_dic_list()) "
    }
   },
   "types_to_exclude": [
    "module",
    "function",
    "builtin_function_or_method",
    "instance",
    "_Feature"
   ],
   "window_display": false
  }
 },
 "nbformat": 4,
 "nbformat_minor": 2
}
